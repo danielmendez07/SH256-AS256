{
 "cells": [
  {
   "cell_type": "markdown",
   "metadata": {},
   "source": [
    "## Testes SHA-256"
   ]
  },
  {
   "cell_type": "markdown",
   "metadata": {},
   "source": [
    "- Entrada: \"Hello World\"\n",
    "- Entrada: \"senha123\"\n",
    "- Entrada: \"mensagem secreta 123456789\"\n",
    "- Entrada: \"Sla, alguma coisa\"\n",
    "- Entrada: \"Outra mensagem, mas muito mais longa, contendo diversos caracteres especiais! @#$%¨&*()_+{}^?:><;\""
   ]
  },
  {
   "cell_type": "code",
   "execution_count": 27,
   "metadata": {},
   "outputs": [],
   "source": [
    "import hashlib\n",
    "import pandas as pd"
   ]
  },
  {
   "cell_type": "code",
   "execution_count": 28,
   "metadata": {},
   "outputs": [
    {
     "name": "stdout",
     "output_type": "stream",
     "text": [
      "SHA-256 Results DataFrame:\n"
     ]
    },
    {
     "data": {
      "text/html": [
       "<div>\n",
       "<style scoped>\n",
       "    .dataframe tbody tr th:only-of-type {\n",
       "        vertical-align: middle;\n",
       "    }\n",
       "\n",
       "    .dataframe tbody tr th {\n",
       "        vertical-align: top;\n",
       "    }\n",
       "\n",
       "    .dataframe thead th {\n",
       "        text-align: right;\n",
       "    }\n",
       "</style>\n",
       "<table border=\"1\" class=\"dataframe\">\n",
       "  <thead>\n",
       "    <tr style=\"text-align: right;\">\n",
       "      <th></th>\n",
       "      <th>Entrada</th>\n",
       "      <th>Resultado SHA-256</th>\n",
       "    </tr>\n",
       "  </thead>\n",
       "  <tbody>\n",
       "    <tr>\n",
       "      <th>0</th>\n",
       "      <td>Hello World</td>\n",
       "      <td>a591a6d40bf420404a011733cfb7b190d62c65bf0bcda3...</td>\n",
       "    </tr>\n",
       "    <tr>\n",
       "      <th>1</th>\n",
       "      <td>senha123</td>\n",
       "      <td>55a5e9e78207b4df8699d60886fa070079463547b095d1...</td>\n",
       "    </tr>\n",
       "    <tr>\n",
       "      <th>2</th>\n",
       "      <td>mensagem secreta 123456789</td>\n",
       "      <td>b6b1a6b1c4e834496c36b91a68ae62686ea24c5a10c8da...</td>\n",
       "    </tr>\n",
       "    <tr>\n",
       "      <th>3</th>\n",
       "      <td>Sla, alguma coisa</td>\n",
       "      <td>ed14ba40df44bfc8e142150730ad029f65fa8be873915f...</td>\n",
       "    </tr>\n",
       "    <tr>\n",
       "      <th>4</th>\n",
       "      <td>Outra mensagem, mas muito mais longa, contendo...</td>\n",
       "      <td>b348171091c2d16986b1067274e383f86d3dd051184c93...</td>\n",
       "    </tr>\n",
       "  </tbody>\n",
       "</table>\n",
       "</div>"
      ],
      "text/plain": [
       "                                             Entrada  \\\n",
       "0                                        Hello World   \n",
       "1                                           senha123   \n",
       "2                         mensagem secreta 123456789   \n",
       "3                                  Sla, alguma coisa   \n",
       "4  Outra mensagem, mas muito mais longa, contendo...   \n",
       "\n",
       "                                   Resultado SHA-256  \n",
       "0  a591a6d40bf420404a011733cfb7b190d62c65bf0bcda3...  \n",
       "1  55a5e9e78207b4df8699d60886fa070079463547b095d1...  \n",
       "2  b6b1a6b1c4e834496c36b91a68ae62686ea24c5a10c8da...  \n",
       "3  ed14ba40df44bfc8e142150730ad029f65fa8be873915f...  \n",
       "4  b348171091c2d16986b1067274e383f86d3dd051184c93...  "
      ]
     },
     "execution_count": 28,
     "metadata": {},
     "output_type": "execute_result"
    }
   ],
   "source": [
    "# Inputs para testes SHA-256\n",
    "inputs_sha256 = [\n",
    "    \"Hello World\",\n",
    "    \"senha123\",\n",
    "    \"mensagem secreta 123456789\",\n",
    "    \"Sla, alguma coisa\",\n",
    "    \"Outra mensagem, mas muito mais longa, contendo diversos caracteres especiais! @#$%¨&*()_+{}^?:><;\"\n",
    "]\n",
    "\n",
    "# Realização dos testes SHA-256 e organização dos resultados\n",
    "results_sha256 = [{\"Entrada\": inp, \"Resultado SHA-256\": hashlib.sha256(inp.encode()).hexdigest()} for inp in inputs_sha256]\n",
    "\n",
    "# Criar DataFrame para SHA-256\n",
    "df_sha256 = pd.DataFrame(results_sha256)\n",
    "\n",
    "# Exibir o DataFrame SHA-256\n",
    "print(\"SHA-256 Results DataFrame:\")\n",
    "df_sha256"
   ]
  },
  {
   "cell_type": "markdown",
   "metadata": {},
   "source": [
    "## Testes AES-256"
   ]
  },
  {
   "cell_type": "markdown",
   "metadata": {},
   "source": [
    "- Texto para Criptografar: \"Teste AES 1\"\n",
    "- Texto para Criptografar: \"Texto curto\"\n",
    "- Texto para Criptografar: \"Frase um pouco mais longa para criptografia\"\n",
    "- Texto para Criptografar: \"1234567890abcdef\"\n",
    "- Texto para Criptografar: \"Dados sensíveis: 1234-5678-9012-3456\""
   ]
  },
  {
   "cell_type": "code",
   "execution_count": 29,
   "metadata": {},
   "outputs": [],
   "source": [
    "from cryptography.hazmat.primitives.ciphers import Cipher, algorithms, modes\n",
    "from cryptography.hazmat.primitives import padding\n",
    "from cryptography.hazmat.backends import default_backend\n",
    "import os\n",
    "import pandas as pd"
   ]
  },
  {
   "cell_type": "code",
   "execution_count": 30,
   "metadata": {},
   "outputs": [],
   "source": [
    "# Funções auxiliares para AES\n",
    "def aes_encrypt(key, iv, plaintext):\n",
    "    padder = padding.PKCS7(algorithms.AES.block_size).padder()\n",
    "    padded_data = padder.update(plaintext.encode()) + padder.finalize()\n",
    "    cipher = Cipher(algorithms.AES(key), modes.CBC(iv), backend=default_backend())\n",
    "    encryptor = cipher.encryptor()\n",
    "    ct = encryptor.update(padded_data) + encryptor.finalize()\n",
    "    return ct\n",
    "\n",
    "def aes_decrypt(key, iv, ciphertext):\n",
    "    cipher = Cipher(algorithms.AES(key), modes.CBC(iv), backend=default_backend())\n",
    "    decryptor = cipher.decryptor()\n",
    "    padded_plaintext = decryptor.update(ciphertext) + decryptor.finalize()\n",
    "    unpadder = padding.PKCS7(algorithms.AES.block_size).unpadder()\n",
    "    plaintext = unpadder.update(padded_plaintext) + unpadder.finalize()\n",
    "    return plaintext.decode()"
   ]
  },
  {
   "cell_type": "code",
   "execution_count": 31,
   "metadata": {},
   "outputs": [],
   "source": [
    "# Gerar chave e IV para AES-256\n",
    "key = os.urandom(32)  # 256 bits\n",
    "iv = os.urandom(16)   # AES block size in bytes"
   ]
  },
  {
   "cell_type": "code",
   "execution_count": 32,
   "metadata": {},
   "outputs": [],
   "source": [
    "# Textos para criptografar com AES-256\n",
    "texts_to_encrypt = [\n",
    "    \"Teste AES 1\",\n",
    "    \"Texto curto\",\n",
    "    \"Frase um pouco mais longa para criptografia\",\n",
    "    \"1234567890abcdef\",\n",
    "    \"Dados sensíveis: 1234-5678-9012-3456\"\n",
    "]"
   ]
  },
  {
   "cell_type": "code",
   "execution_count": 33,
   "metadata": {},
   "outputs": [
    {
     "name": "stdout",
     "output_type": "stream",
     "text": [
      "AES-256 Results DataFrame:\n"
     ]
    },
    {
     "data": {
      "text/html": [
       "<div>\n",
       "<style scoped>\n",
       "    .dataframe tbody tr th:only-of-type {\n",
       "        vertical-align: middle;\n",
       "    }\n",
       "\n",
       "    .dataframe tbody tr th {\n",
       "        vertical-align: top;\n",
       "    }\n",
       "\n",
       "    .dataframe thead th {\n",
       "        text-align: right;\n",
       "    }\n",
       "</style>\n",
       "<table border=\"1\" class=\"dataframe\">\n",
       "  <thead>\n",
       "    <tr style=\"text-align: right;\">\n",
       "      <th></th>\n",
       "      <th>Texto Original</th>\n",
       "      <th>Texto Criptografado (bytes)</th>\n",
       "      <th>Texto Descriptografado</th>\n",
       "    </tr>\n",
       "  </thead>\n",
       "  <tbody>\n",
       "    <tr>\n",
       "      <th>0</th>\n",
       "      <td>Teste AES 1</td>\n",
       "      <td>b'\\xc1^\\xd7\\x98W\\xc5%\\xb1\\xdd1z\\xb8\\xe5+H\\xe3'</td>\n",
       "      <td>Teste AES 1</td>\n",
       "    </tr>\n",
       "    <tr>\n",
       "      <th>1</th>\n",
       "      <td>Texto curto</td>\n",
       "      <td>b'\\x1aAZ\\x86\\x045\\xfd\\xcb\\xb0\\x80\\xd8I\\x12\\xc9...</td>\n",
       "      <td>Texto curto</td>\n",
       "    </tr>\n",
       "    <tr>\n",
       "      <th>2</th>\n",
       "      <td>Frase um pouco mais longa para criptografia</td>\n",
       "      <td>b'u\\xde\\xd9\\xfb\\xa4\\xbe=m\\xac\\xaa(\\xe3\\xc9w\\x8...</td>\n",
       "      <td>Frase um pouco mais longa para criptografia</td>\n",
       "    </tr>\n",
       "    <tr>\n",
       "      <th>3</th>\n",
       "      <td>1234567890abcdef</td>\n",
       "      <td>b'\\x04`\\xf8\\xe0\\x98\\xaak\\xf6\\xc3H\\xb7V\\xa85u\\x...</td>\n",
       "      <td>1234567890abcdef</td>\n",
       "    </tr>\n",
       "    <tr>\n",
       "      <th>4</th>\n",
       "      <td>Dados sensíveis: 1234-5678-9012-3456</td>\n",
       "      <td>b'\\x026\\x8e\\x958\\x16d1\\xbf\\x97\\n\\x1a\\xae\\x97y\\...</td>\n",
       "      <td>Dados sensíveis: 1234-5678-9012-3456</td>\n",
       "    </tr>\n",
       "  </tbody>\n",
       "</table>\n",
       "</div>"
      ],
      "text/plain": [
       "                                Texto Original  \\\n",
       "0                                  Teste AES 1   \n",
       "1                                  Texto curto   \n",
       "2  Frase um pouco mais longa para criptografia   \n",
       "3                             1234567890abcdef   \n",
       "4         Dados sensíveis: 1234-5678-9012-3456   \n",
       "\n",
       "                         Texto Criptografado (bytes)  \\\n",
       "0     b'\\xc1^\\xd7\\x98W\\xc5%\\xb1\\xdd1z\\xb8\\xe5+H\\xe3'   \n",
       "1  b'\\x1aAZ\\x86\\x045\\xfd\\xcb\\xb0\\x80\\xd8I\\x12\\xc9...   \n",
       "2  b'u\\xde\\xd9\\xfb\\xa4\\xbe=m\\xac\\xaa(\\xe3\\xc9w\\x8...   \n",
       "3  b'\\x04`\\xf8\\xe0\\x98\\xaak\\xf6\\xc3H\\xb7V\\xa85u\\x...   \n",
       "4  b'\\x026\\x8e\\x958\\x16d1\\xbf\\x97\\n\\x1a\\xae\\x97y\\...   \n",
       "\n",
       "                        Texto Descriptografado  \n",
       "0                                  Teste AES 1  \n",
       "1                                  Texto curto  \n",
       "2  Frase um pouco mais longa para criptografia  \n",
       "3                             1234567890abcdef  \n",
       "4         Dados sensíveis: 1234-5678-9012-3456  "
      ]
     },
     "execution_count": 33,
     "metadata": {},
     "output_type": "execute_result"
    }
   ],
   "source": [
    "# Realizar testes de criptografia e descriptografia com AES-256\n",
    "aes_results = []\n",
    "for text in texts_to_encrypt:\n",
    "    encrypted = aes_encrypt(key, iv, text)\n",
    "    decrypted = aes_decrypt(key, iv, encrypted)\n",
    "    aes_results.append({\n",
    "        \"Texto Original\": text, \n",
    "        \"Texto Criptografado (bytes)\": encrypted, \n",
    "        \"Texto Descriptografado\": decrypted\n",
    "    })\n",
    "\n",
    "# Criar DataFrame para AES-256\n",
    "df_aes = pd.DataFrame(aes_results)\n",
    "\n",
    "# Exibir o DataFrame AES-256\n",
    "print(\"AES-256 Results DataFrame:\")\n",
    "df_aes"
   ]
  }
 ],
 "metadata": {
  "kernelspec": {
   "display_name": "Python 3",
   "language": "python",
   "name": "python3"
  },
  "language_info": {
   "codemirror_mode": {
    "name": "ipython",
    "version": 3
   },
   "file_extension": ".py",
   "mimetype": "text/x-python",
   "name": "python",
   "nbconvert_exporter": "python",
   "pygments_lexer": "ipython3",
   "version": "3.11.3"
  },
  "orig_nbformat": 4
 },
 "nbformat": 4,
 "nbformat_minor": 2
}
